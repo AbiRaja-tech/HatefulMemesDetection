{
 "cells": [
  {
   "cell_type": "markdown",
   "metadata": {},
   "source": [
    "# First Simple Model"
   ]
  },
  {
   "cell_type": "code",
   "execution_count": 55,
   "metadata": {},
   "outputs": [],
   "source": [
    "import pandas as pd\n",
    "import numpy as np\n",
    "from sklearn.feature_extraction.text import CountVectorizer\n",
    "from sklearn.naive_bayes import MultinomialNB\n",
    "from sklearn.dummy import DummyClassifier\n",
    "from sklearn.metrics import roc_auc_score"
   ]
  },
  {
   "cell_type": "code",
   "execution_count": 2,
   "metadata": {},
   "outputs": [],
   "source": [
    "# load the jsonl files\n",
    "train_df = pd.read_json('../data/raw/train.jsonl', lines=True, )\n",
    "dev_seen_df = pd.read_json('../data/raw/dev_seen.jsonl', lines=True)\n",
    "dev_unseen_df = pd.read_json('../data/raw/dev_unseen.jsonl', lines=True)\n",
    "test_seen_df = pd.read_json('../data/raw/test_seen.jsonl', lines=True)\n",
    "test_unseen_df = pd.read_json('../data/raw/test_unseen.jsonl', lines=True)"
   ]
  },
  {
   "cell_type": "markdown",
   "metadata": {},
   "source": [
    "### Split"
   ]
  },
  {
   "cell_type": "code",
   "execution_count": 3,
   "metadata": {},
   "outputs": [],
   "source": [
    "# create train set\n",
    "train_df = train_df.set_index('id')\n",
    "\n",
    "# validation set\n",
    "val_df = pd.concat([dev_seen_df, dev_unseen_df, test_seen_df])\n",
    "val_df = val_df.drop_duplicates(subset='id')\n",
    "val_df = val_df.set_index('id')\n",
    "\n",
    "# holdout set\n",
    "hold_df = test_unseen_df.set_index('id')"
   ]
  },
  {
   "cell_type": "code",
   "execution_count": 34,
   "metadata": {},
   "outputs": [
    {
     "name": "stdout",
     "output_type": "stream",
     "text": [
      "There are 12140 images.\n",
      "Train size:\t 70.02%\n",
      "Validation size: 13.51%\n",
      "Holdout size:\t 16.47%\n"
     ]
    }
   ],
   "source": [
    "# confirm number of images\n",
    "ids = list(train_df.index)+list(val_df.index)+list(hold_df.index)\n",
    "assert(len(ids) == len(set(ids)))\n",
    "\n",
    "# display train, validation, holdout sizes\n",
    "print(f\"There are {len(ids)} images.\")\n",
    "print(f\"Train size:\\t{len(train_df) / len(ids): .2%}\")\n",
    "print(f\"Validation size:{len(val_df) / len(ids): .2%}\")\n",
    "print(f\"Holdout size:\\t{len(hold_df) / len(ids): .2%}\")"
   ]
  },
  {
   "cell_type": "code",
   "execution_count": 38,
   "metadata": {},
   "outputs": [],
   "source": [
    "# create X, y\n",
    "X_train, X_val, X_hold = train_df['text'], val_df['text'], hold_df['text']\n",
    "y_train, y_val, y_hold = train_df['label'], val_df['label'], hold_df['label']"
   ]
  },
  {
   "cell_type": "markdown",
   "metadata": {},
   "source": [
    "## Dummy Baseline"
   ]
  },
  {
   "cell_type": "code",
   "execution_count": 58,
   "metadata": {},
   "outputs": [
    {
     "data": {
      "text/plain": [
       "0.526219512195122"
      ]
     },
     "execution_count": 58,
     "metadata": {},
     "output_type": "execute_result"
    }
   ],
   "source": [
    "# instantiate, fit, score\n",
    "dummy = DummyClassifier(strategy='stratified', random_state=42)\n",
    "dummy.fit(X_train_vec, y_train)\n",
    "dummy.score(X_val_vec, y_val)"
   ]
  },
  {
   "cell_type": "markdown",
   "metadata": {},
   "source": [
    "## Baseline Model - Bag of Words"
   ]
  },
  {
   "cell_type": "markdown",
   "metadata": {},
   "source": [
    "### Vectorize"
   ]
  },
  {
   "cell_type": "code",
   "execution_count": 46,
   "metadata": {},
   "outputs": [],
   "source": [
    "# instantiate vectorizer\n",
    "vectorizer = CountVectorizer()\n",
    "\n",
    "# fit and transform on train\n",
    "X_train_vec = vectorizer.fit_transform(X_train)\n",
    "\n",
    "# transform val\n",
    "X_val_vec = vectorizer.transform(X_val)"
   ]
  },
  {
   "cell_type": "markdown",
   "metadata": {},
   "source": [
    "### Naive Bayes Classifier"
   ]
  },
  {
   "cell_type": "code",
   "execution_count": 61,
   "metadata": {},
   "outputs": [
    {
     "data": {
      "text/plain": [
       "0.5908536585365853"
      ]
     },
     "execution_count": 61,
     "metadata": {},
     "output_type": "execute_result"
    }
   ],
   "source": [
    "# instantiate classifier\n",
    "clf = MultinomialNB()\n",
    "\n",
    "# fit and score\n",
    "clf.fit(X_train_vec, y_train)\n",
    "clf.score(X_val_vec, y_val)"
   ]
  },
  {
   "cell_type": "code",
   "execution_count": 62,
   "metadata": {
    "scrolled": true
   },
   "outputs": [
    {
     "data": {
      "text/plain": [
       "0.5937144540060194"
      ]
     },
     "execution_count": 62,
     "metadata": {},
     "output_type": "execute_result"
    }
   ],
   "source": [
    "# roc auc\n",
    "roc_auc_score(y_val, clf.predict_proba(X_val_vec)[:, 1])"
   ]
  }
 ],
 "metadata": {
  "kernelspec": {
   "display_name": "Python (learn-env)",
   "language": "python",
   "name": "learn-env"
  },
  "language_info": {
   "codemirror_mode": {
    "name": "ipython",
    "version": 3
   },
   "file_extension": ".py",
   "mimetype": "text/x-python",
   "name": "python",
   "nbconvert_exporter": "python",
   "pygments_lexer": "ipython3",
   "version": "3.8.5"
  }
 },
 "nbformat": 4,
 "nbformat_minor": 4
}
